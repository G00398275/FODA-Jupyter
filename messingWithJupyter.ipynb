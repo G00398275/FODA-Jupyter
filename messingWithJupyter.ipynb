{
 "cells": [
  {
   "cell_type": "code",
   "execution_count": 3,
   "id": "23269ea5-a074-439a-b5fd-3efb33396956",
   "metadata": {},
   "outputs": [],
   "source": [
    "i = 3\n",
    "j = 5"
   ]
  },
  {
   "cell_type": "code",
   "execution_count": 4,
   "id": "15490746-6c8b-4bd1-be04-4b7b24c1fd1c",
   "metadata": {},
   "outputs": [],
   "source": [
    "k = i + j"
   ]
  },
  {
   "cell_type": "code",
   "execution_count": 6,
   "id": "15a17896-1087-4255-b8f0-f9a5b67b2a42",
   "metadata": {},
   "outputs": [
    {
     "data": {
      "text/plain": [
       "8"
      ]
     },
     "execution_count": 6,
     "metadata": {},
     "output_type": "execute_result"
    }
   ],
   "source": [
    "k"
   ]
  },
  {
   "cell_type": "markdown",
   "id": "48c64a8b-7a73-4bd7-9f67-dc02bb73913f",
   "metadata": {},
   "source": [
    "# This is the Header\n",
    "## Second Header\n",
    "### Third Header\n",
    "\n",
    "1. First in List\n",
    "1. Second in List\n",
    "1. Third in List\n",
    "1. Fourth in List\n",
    "\n",
    "![](https://thumbs.dreamstime.com/z/three-circles-infinity-line-dots-abstract-logo-vector-182092041.jpg)\n",
    "**This Text Should Be In Bold**"
   ]
  },
  {
   "cell_type": "code",
   "execution_count": null,
   "id": "a7e7f9a9-9f15-4a67-82b4-07288c3fb631",
   "metadata": {},
   "outputs": [],
   "source": []
  }
 ],
 "metadata": {
  "kernelspec": {
   "display_name": "Python 3",
   "language": "python",
   "name": "python3"
  },
  "language_info": {
   "codemirror_mode": {
    "name": "ipython",
    "version": 3
   },
   "file_extension": ".py",
   "mimetype": "text/x-python",
   "name": "python",
   "nbconvert_exporter": "python",
   "pygments_lexer": "ipython3",
   "version": "3.8.8"
  }
 },
 "nbformat": 4,
 "nbformat_minor": 5
}
