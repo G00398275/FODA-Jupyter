{
 "cells": [
  {
   "cell_type": "code",
   "execution_count": 3,
   "id": "23269ea5-a074-439a-b5fd-3efb33396956",
   "metadata": {},
   "outputs": [],
   "source": [
    "i = 3\n",
    "j = 5"
   ]
  },
  {
   "cell_type": "code",
   "execution_count": 4,
   "id": "15490746-6c8b-4bd1-be04-4b7b24c1fd1c",
   "metadata": {},
   "outputs": [],
   "source": [
    "k = i + j"
   ]
  },
  {
   "cell_type": "code",
   "execution_count": 6,
   "id": "15a17896-1087-4255-b8f0-f9a5b67b2a42",
   "metadata": {},
   "outputs": [
    {
     "data": {
      "text/plain": [
       "8"
      ]
     },
     "execution_count": 6,
     "metadata": {},
     "output_type": "execute_result"
    }
   ],
   "source": [
    "k"
   ]
  },
  {
   "cell_type": "markdown",
   "id": "48c64a8b-7a73-4bd7-9f67-dc02bb73913f",
   "metadata": {},
   "source": [
    "# Header 1\n",
    "## Header 2\n",
    "### Header 3\n",
    "#### Header 4\n",
    "\n",
    "1. First in List\n",
    "1. Second in List\n",
    "1. Third in List\n",
    "1. Fourth in List\n",
    "\n",
    "**This Text Should Be In Bold**  \n",
    "__This Text Should Also Be In Bold__  \n",
    "_This Text Should Be In Italics_  \n",
    "*This Text Should Also Be In Italics*  \n",
    "\n",
    " - Circular Bullet 1\n",
    " - Circular Bullet 2\n",
    " - Circular Bullet 3\n",
    " \n",
    "> This text should be indented  \n",
    "> This text is also indented  \n",
    "\n",
    "***\n",
    "There should be a horizontal line above here\n",
    "\n",
    "`Use two spaces at the end of a line to start on a new line`\n",
    "\n",
    "The above line should be in monospace\n",
    "\n",
    "\n",
    "![](https://thumbs.dreamstime.com/z/three-circles-infinity-line-dots-abstract-logo-vector-182092041.jpg)\n",
    "\n",
    "\n"
   ]
  },
  {
   "cell_type": "code",
   "execution_count": null,
   "id": "a7e7f9a9-9f15-4a67-82b4-07288c3fb631",
   "metadata": {},
   "outputs": [],
   "source": []
  }
 ],
 "metadata": {
  "kernelspec": {
   "display_name": "Python 3",
   "language": "python",
   "name": "python3"
  },
  "language_info": {
   "codemirror_mode": {
    "name": "ipython",
    "version": 3
   },
   "file_extension": ".py",
   "mimetype": "text/x-python",
   "name": "python",
   "nbconvert_exporter": "python",
   "pygments_lexer": "ipython3",
   "version": "3.8.8"
  }
 },
 "nbformat": 4,
 "nbformat_minor": 5
}
